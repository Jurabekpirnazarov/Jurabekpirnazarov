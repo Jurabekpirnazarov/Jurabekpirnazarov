{
 "cells": [
  {
   "cell_type": "code",
   "execution_count": 1,
   "id": "12b2a961",
   "metadata": {},
   "outputs": [
    {
     "name": "stderr",
     "output_type": "stream",
     "text": [
      "[nltk_data] Downloading package vader_lexicon to\n",
      "[nltk_data]     C:\\Users\\User\\AppData\\Roaming\\nltk_data...\n",
      "[nltk_data]   Package vader_lexicon is already up-to-date!\n"
     ]
    },
    {
     "data": {
      "text/plain": [
       "True"
      ]
     },
     "execution_count": 1,
     "metadata": {},
     "output_type": "execute_result"
    }
   ],
   "source": [
    "import nltk\n",
    "nltk.download('vader_lexicon')"
   ]
  },
  {
   "cell_type": "code",
   "execution_count": 2,
   "id": "278b7d85",
   "metadata": {},
   "outputs": [],
   "source": [
    "from urllib.request import urlopen, Request\n",
    "from bs4 import BeautifulSoup\n",
    "from nltk.sentiment.vader import SentimentIntensityAnalyzer \n",
    "import pandas as pd\n",
    "import matplotlib.pyplot as plt"
   ]
  },
  {
   "cell_type": "code",
   "execution_count": 3,
   "id": "4a3cbac6",
   "metadata": {},
   "outputs": [],
   "source": [
    "fin_v='https://finviz.com/quote.ashx?t='\n"
   ]
  },
  {
   "cell_type": "code",
   "execution_count": 4,
   "id": "68ee42b4",
   "metadata": {},
   "outputs": [],
   "source": [
    "fin_v='https://finviz.com/quote.ashx?t='\n",
    "tkicker = ['amzn','amd','goog','fb']\n",
    "news_tables={}\n",
    "for tk in tkicker:\n",
    "    urls = fin_v+tk\n",
    "    req = Request(url=urls,headers={'user-agent':'my-app'})\n",
    "    response = urlopen(req)\n",
    "    html = BeautifulSoup(response,\"html\")\n",
    "    news_table = html.find(id=\"news-table\")\n",
    "    news_tables[tk] =news_table \n",
    "    \n",
    "amzn_data = news_tables['amzn']\n",
    "amzn_rows = amzn_data.findAll('tr')"
   ]
  },
  {
   "cell_type": "code",
   "execution_count": 5,
   "id": "a9eed7a5",
   "metadata": {},
   "outputs": [
    {
     "name": "stdout",
     "output_type": "stream",
     "text": [
      "Jul-10-21 12:35AM   The Pentagon's JEDI Contract Is Dead -- but It Will Return\n",
      "Jul-09-21 10:49PM   China Watchdog Rejects Tencent-Led Game Streaming Deal\n",
      "07:10PM   FTC extends probe of Amazon, MGM deal - source\n",
      "06:48PM   FTC extends probe of Amazon, MGM deal - source\n",
      "04:59PM   This week in Bidenomics\n",
      "04:46PM   Amazon and Facebook are unnamed targets of Bidens executive order\n",
      "04:37PM   Oracle Stock Soared to a New High on Speculation About Defense Cloud Contract\n",
      "04:21PM   'You really need Congress and you need legislation to really bring about meaningful change in antitrust policy': Insigneo Chief Investment Strategist\n",
      "03:42PM   Tech Deals, Data Come Under Fire in Bidens Sweeping Order\n",
      "03:24PM   How Jeff Bezos Became the Worlds Richest Man\n",
      "03:04PM   Amazon scoops Tesco veteran to run bricks-and-mortar stores\n",
      "02:30PM   Amazon is Yahoo Finance Plus investment idea of the day\n",
      "02:27PM   Is Snowflake Stock A Buy? Software Maker Sets Path To $10 Billion In Revenue By 2028\n",
      "02:24PM   Does Etsy's Elo7 Deal Make Sense?\n",
      "11:56AM   Fintech Startup Bolt Eyes Unicorn Status in New Funding Round\n",
      "11:49AM   UPDATE 1-U.S. judge ends Amazon challenge to $10 bln cloud contract after Pentagon cancellation\n",
      "11:45AM   Dow Jones Surges 450 Points As Yields Snap Back; Tesla Stock Holds Above Key Support\n",
      "11:20AM   3 Stocks I Bought Last Month\n",
      "10:56AM   10 Best Vanguard Stocks to Buy Now\n",
      "10:55AM   Biden targets tech, drugs prices in new executive order\n",
      "10:25AM   16 Best E-Commerce Stocks to Buy in 2021\n",
      "09:55AM   Amazon (AMZN) Boosts Reach in India With First Digital Kendra\n",
      "09:18AM   Chewy Grows with Innovation and Remains Fairly Valued, Says Analyst\n",
      "08:45AM   Reliance's JioMart Is Gaining in India. Should Amazon Worry?\n",
      "07:26AM   [video]Biden's Executive Order on Competition Could Slice Several Companies Into Pieces\n",
      "06:52AM   The Zacks Analyst Blog Highlights: Amazon, PepsiCo, Chevron, CME Group and Fiserv\n",
      "06:06AM   The 1 FAANG Stock to Buy Hand Over Fist for the Second Half of 2021 (and Beyond)\n",
      "06:05AM   Retail workers in unions reap higher wages even as U.S. organizers suffer setbacks\n",
      "06:00AM   INSIGHT-Retail workers in unions reap higher wages even as U.S. organizers suffer setbacks\n",
      "03:30AM   Tech Stocks Roundup: Jim Cramer Says FAANG Is Not Dead\n",
      "Jul-08-21 05:35PM   4 Things to Know About New Amazon CEO Andy Jassy\n",
      "04:51PM   12 Healthy and Sustainable Food Stocks to Buy\n",
      "03:54PM   Why Amazon Was Outpacing the Market Today\n",
      "03:06PM   Dow Jones Dives As Stock Market Sells Off, But Amazon Hits Fresh High\n",
      "02:54PM   Alibaba Fires Up E-commerce War With Amazon Through 72-Hour Global Delivery: WSJ\n",
      "01:51PM   6 Companies Owned by AMZN\n",
      "01:07PM   Dow Jones Cuts Losses As Treasury Yields Tumble; Apple Sells Off, Tesla Stock Reverses Amid Strong China Sales\n",
      "12:26PM   UPDATE 2-Amazon to offer Universal films after they play on Peacock\n",
      "12:04PM   Amazon to offer Universal films after they play on Peacock\n",
      "11:55AM   These companies stand to gain from JEDI contract cancellation\n",
      "11:16AM   Comcast's (CMCSA) Universal Moves Licensing Deal to Peacock\n",
      "11:14AM   10 Best Grocery Stocks to Buy\n",
      "11:08AM   10 Best Dividend Stocks to Buy According to Billionaire Michael Price\n",
      "09:30AM   This Is the Hottest Space Travel Stock to Buy Now\n",
      "08:42AM   10 Best Dividend Stocks to Buy According to Traci Lerners Chescapmanager\n",
      "08:33AM   Is ContextLogic a Smart E-commerce Play?\n",
      "08:13AM   4 Stocks to Buy on Increased Cloud Infrastructure Spending\n",
      "08:10AM   AmEx (AXP) Ties up With Amazon to Boost Digital Receipts Tool\n",
      "07:08AM   Zacks Industry Outlook Highlights: CVS Health, Walgreen Boots, Herbalife and Amazon\n",
      "06:39AM   Labor shortage accelerates shift away from drug testing for new hires\n",
      "05:30AM   Alibaba Challenges Amazon With a Promise: Fast Global Shipping\n",
      "04:47AM   Microsoft is Making Money, but is it Overvalued?\n",
      "Jul-07-21 05:45PM   Amazon (AMZN) Outpaces Stock Market Gains: What You Should Know\n",
      "05:08PM   Super richs wealth concentration surpasses Gilded Age levels\n",
      "05:05PM   HawkEye 360 CEO on the Space Races impact on future investment\n",
      "04:27PM   Trump Sues Facebook, Twitter, Google Over Social Media Bans\n",
      "04:10PM   Apple Shares Surge to Record High as Rally Picks Up Steam\n",
      "03:55PM   The JEDI reboot allows U.S. to correct its mistake\n",
      "02:47PM   Factbox-Six things to know about the Pentagon's defunct JEDI contract\n",
      "02:34PM   Amazon CEO Andy Jassy is inheriting a behemoth that is under siege\n",
      "02:28PM   How Amazon Makes Money: e-commerce, advertising, and the cloud\n",
      "02:24PM   Top Amazon Shareholders\n",
      "02:19PM   Mega caps love plunging yields, meme stock Newegg doubles\n",
      "12:40PM   When Big Tech Stumbles, the Market Can Fall Hard. These 5 Funds Can Help.\n",
      "11:30AM   Dow Jones Rallies As Yields Dive; Tesla Stock Extends Losses, While Amazon, Apple, Shopify In Buy Zones\n",
      "11:07AM   Antitrusts New Mission: Preserving Democracy, Not Efficiency\n",
      "11:00AM   Top 10 High-Conviction Cloud Stocks to Buy on the Next Dip\n",
      "10:35AM   Pentagon cancels cloud contract, Universal films head to Peacock, Chobani to go public\n",
      "10:23AM   Microsoft (MSFT) Faces Blow as DoD Abandons $10B JEDI Deal\n",
      "10:14AM   Big tech rally: Amazon at record high, Apple extends gains\n",
      "10:12AM   Another Stimulus Check Coming? Here's a Great Stock to Buy If It Does\n",
      "09:25AM   Internet Stocks Boost E-commerce Game: Is Amazon Under Threat?\n",
      "08:59AM   Will Apple Be Next to Hit All-Time Highs?\n",
      "08:45AM   2 Stocks That Could Double Your Money\n",
      "08:13AM   Dow Jones Futures: Crude Oil Rebounds, Treasury Yields Keep Falling; Amazon, Shopify Lead 5 Techs In Buy Zones\n",
      "07:54AM   Amazons Jeff Bezos Is Getting Richerand You Can Too\n",
      "06:25AM   4 Stocks to Watch Amid Rise in Enterprise Software Spending\n",
      "06:17AM   2 Stocks I Just Bought More Of\n",
      "06:13AM   We Ranked 10 Top Meme Stocks -- Here's Where GameStop Landed\n",
      "06:07AM   PayPal Leading in the Wallet Wars, for Now\n",
      "05:05AM   These Top-10 Robinhood Stocks Are Anything But Crazy Picks\n",
      "03:56AM   Shell, Sunnova Rise Premarket; Didi Global Falls\n",
      "03:28AM   Organized Chaos, Growth Concerns, COVID Variant, Trading Amazon and Microsoft\n",
      "02:22AM   JOLTS, Fed Minutes, China Listing Crackdown - What's Moving Markets\n",
      "02:00AM   Amazon Notches Comeback Win in Years-Long Pentagon Cloud Battle\n",
      "01:11AM   Amazon, Apple, Fed Minutes and Didi - 5 Things You Must Know Wednesday\n",
      "Jul-06-21 06:32PM   Wall Street Unfazed by Amazon CEO Transition\n",
      "06:08PM   These 2 Stock Giants Have Quietly Risen Toward All-Time Highs\n",
      "05:43PM   S&P Breaks 7-Day Streak, Nasdaq Hits New Record High\n",
      "05:31PM   Dow Jones Futures: Amazon, Shopify Lead 5 Techs Entering Buy Zones; Tesla Falls As China, Energy Stocks Hit Hard In Market Rally\n",
      "05:23PM   The Market Cap Game Show: Episode 16\n",
      "05:08PM   Jeff Bezos Hits Wealth Record of $211 Billion on Pentagon Move\n",
      "04:58PM   Pentagon to rebid Jedi cloud contract\n",
      "04:58PM   TIMELINE-The fight by Microsoft and Amazon for the Pentagon's cloud contract\n",
      "04:39PM   Pentagon Cancels JEDI Contract, Sets Stage For Microsoft-Amazon Rematch\n",
      "04:24PM   Dow Jones Sells Off While Nasdaq Turns Positive, Hits New High; Apple Trades In Buy Zone As These Growth Stocks Break Out\n",
      "04:20PM   Amazon stock rides to record as JEDI deal gets canceled on new CEOs first day\n",
      "04:12PM   TIMELINE-Pentagon's cloud deal latest Trump move halted by Biden\n",
      "04:12PM   Microsofts JEDI Contract Canceled in Big Win for Amazon\n",
      "04:07PM   Apple stock is on fire but will it last?\n"
     ]
    }
   ],
   "source": [
    "for index, row in enumerate(amzn_rows):\n",
    "    title = row.a.text\n",
    "    timestamp = row.td.text\n",
    "    print(timestamp + \" \" + title)"
   ]
  },
  {
   "cell_type": "code",
   "execution_count": 6,
   "id": "2bdd4865",
   "metadata": {},
   "outputs": [
    {
     "name": "stdout",
     "output_type": "stream",
     "text": [
      "[['amzn', 'Jul-10-21', '12:35AM\\xa0\\xa0', \"The Pentagon's JEDI Contract Is Dead -- but It Will Return\"], ['amzn', 'Jul-09-21', '10:49PM\\xa0\\xa0', 'China Watchdog Rejects Tencent-Led Game Streaming Deal'], ['amzn', 'Jul-09-21', '07:10PM\\xa0\\xa0', 'FTC extends probe of Amazon, MGM deal - source'], ['amzn', 'Jul-09-21', '06:48PM\\xa0\\xa0', 'FTC extends probe of Amazon, MGM deal - source'], ['amzn', 'Jul-09-21', '04:59PM\\xa0\\xa0', 'This week in Bidenomics'], ['amzn', 'Jul-09-21', '04:46PM\\xa0\\xa0', 'Amazon and Facebook are unnamed targets of Bidens executive order'], ['amzn', 'Jul-09-21', '04:37PM\\xa0\\xa0', 'Oracle Stock Soared to a New High on Speculation About Defense Cloud Contract'], ['amzn', 'Jul-09-21', '04:21PM\\xa0\\xa0', \"'You really need Congress and you need legislation to really bring about meaningful change in antitrust policy': Insigneo Chief Investment Strategist\"], ['amzn', 'Jul-09-21', '03:42PM\\xa0\\xa0', 'Tech Deals, Data Come Under Fire in Bidens Sweeping Order'], ['amzn', 'Jul-09-21', '03:24PM\\xa0\\xa0', 'How Jeff Bezos Became the Worlds Richest Man'], ['amzn', 'Jul-09-21', '03:04PM\\xa0\\xa0', 'Amazon scoops Tesco veteran to run bricks-and-mortar stores'], ['amzn', 'Jul-09-21', '02:30PM\\xa0\\xa0', 'Amazon is Yahoo Finance Plus investment idea of the day'], ['amzn', 'Jul-09-21', '02:27PM\\xa0\\xa0', 'Is Snowflake Stock A Buy? Software Maker Sets Path To $10 Billion In Revenue By 2028'], ['amzn', 'Jul-09-21', '02:24PM\\xa0\\xa0', \"Does Etsy's Elo7 Deal Make Sense?\"], ['amzn', 'Jul-09-21', '11:56AM\\xa0\\xa0', 'Fintech Startup Bolt Eyes Unicorn Status in New Funding Round'], ['amzn', 'Jul-09-21', '11:49AM\\xa0\\xa0', 'UPDATE 1-U.S. judge ends Amazon challenge to $10 bln cloud contract after Pentagon cancellation'], ['amzn', 'Jul-09-21', '11:45AM\\xa0\\xa0', 'Dow Jones Surges 450 Points As Yields Snap Back; Tesla Stock Holds Above Key Support'], ['amzn', 'Jul-09-21', '11:20AM\\xa0\\xa0', '3 Stocks I Bought Last Month'], ['amzn', 'Jul-09-21', '10:56AM\\xa0\\xa0', '10 Best Vanguard Stocks to Buy Now'], ['amzn', 'Jul-09-21', '10:55AM\\xa0\\xa0', 'Biden targets tech, drugs prices in new executive order'], ['amzn', 'Jul-09-21', '10:25AM\\xa0\\xa0', '16 Best E-Commerce Stocks to Buy in 2021'], ['amzn', 'Jul-09-21', '09:55AM\\xa0\\xa0', 'Amazon (AMZN) Boosts Reach in India With First Digital Kendra'], ['amzn', 'Jul-09-21', '09:18AM\\xa0\\xa0', 'Chewy Grows with Innovation and Remains Fairly Valued, Says Analyst'], ['amzn', 'Jul-09-21', '08:45AM\\xa0\\xa0', \"Reliance's JioMart Is Gaining in India. Should Amazon Worry?\"], ['amzn', 'Jul-09-21', '07:26AM\\xa0\\xa0', \"[video]Biden's Executive Order on Competition Could Slice Several Companies Into Pieces\"], ['amzn', 'Jul-09-21', '06:52AM\\xa0\\xa0', 'The Zacks Analyst Blog Highlights: Amazon, PepsiCo, Chevron, CME Group and Fiserv'], ['amzn', 'Jul-09-21', '06:06AM\\xa0\\xa0', 'The 1 FAANG Stock to Buy Hand Over Fist for the Second Half of 2021 (and Beyond)'], ['amzn', 'Jul-09-21', '06:05AM\\xa0\\xa0', 'Retail workers in unions reap higher wages even as U.S. organizers suffer setbacks'], ['amzn', 'Jul-09-21', '06:00AM\\xa0\\xa0', 'INSIGHT-Retail workers in unions reap higher wages even as U.S. organizers suffer setbacks'], ['amzn', 'Jul-09-21', '03:30AM\\xa0\\xa0', 'Tech Stocks Roundup: Jim Cramer Says FAANG Is Not Dead'], ['amzn', 'Jul-08-21', '05:35PM\\xa0\\xa0', '4 Things to Know About New Amazon CEO Andy Jassy'], ['amzn', 'Jul-08-21', '04:51PM\\xa0\\xa0', '12 Healthy and Sustainable Food Stocks to Buy'], ['amzn', 'Jul-08-21', '03:54PM\\xa0\\xa0', 'Why Amazon Was Outpacing the Market Today'], ['amzn', 'Jul-08-21', '03:06PM\\xa0\\xa0', 'Dow Jones Dives As Stock Market Sells Off, But Amazon Hits Fresh High'], ['amzn', 'Jul-08-21', '02:54PM\\xa0\\xa0', 'Alibaba Fires Up E-commerce War With Amazon Through 72-Hour Global Delivery: WSJ'], ['amzn', 'Jul-08-21', '01:51PM\\xa0\\xa0', '6 Companies Owned by AMZN'], ['amzn', 'Jul-08-21', '01:07PM\\xa0\\xa0', 'Dow Jones Cuts Losses As Treasury Yields Tumble; Apple Sells Off, Tesla Stock Reverses Amid Strong China Sales'], ['amzn', 'Jul-08-21', '12:26PM\\xa0\\xa0', 'UPDATE 2-Amazon to offer Universal films after they play on Peacock'], ['amzn', 'Jul-08-21', '12:04PM\\xa0\\xa0', 'Amazon to offer Universal films after they play on Peacock'], ['amzn', 'Jul-08-21', '11:55AM\\xa0\\xa0', 'These companies stand to gain from JEDI contract cancellation'], ['amzn', 'Jul-08-21', '11:16AM\\xa0\\xa0', \"Comcast's (CMCSA) Universal Moves Licensing Deal to Peacock\"], ['amzn', 'Jul-08-21', '11:14AM\\xa0\\xa0', '10 Best Grocery Stocks to Buy'], ['amzn', 'Jul-08-21', '11:08AM\\xa0\\xa0', '10 Best Dividend Stocks to Buy According to Billionaire Michael Price'], ['amzn', 'Jul-08-21', '09:30AM\\xa0\\xa0', 'This Is the Hottest Space Travel Stock to Buy Now'], ['amzn', 'Jul-08-21', '08:42AM\\xa0\\xa0', '10 Best Dividend Stocks to Buy According to Traci Lerners Chescapmanager'], ['amzn', 'Jul-08-21', '08:33AM\\xa0\\xa0', 'Is ContextLogic a Smart E-commerce Play?'], ['amzn', 'Jul-08-21', '08:13AM\\xa0\\xa0', '4 Stocks to Buy on Increased Cloud Infrastructure Spending'], ['amzn', 'Jul-08-21', '08:10AM\\xa0\\xa0', 'AmEx (AXP) Ties up With Amazon to Boost Digital Receipts Tool'], ['amzn', 'Jul-08-21', '07:08AM\\xa0\\xa0', 'Zacks Industry Outlook Highlights: CVS Health, Walgreen Boots, Herbalife and Amazon'], ['amzn', 'Jul-08-21', '06:39AM\\xa0\\xa0', 'Labor shortage accelerates shift away from drug testing for new hires'], ['amzn', 'Jul-08-21', '05:30AM\\xa0\\xa0', 'Alibaba Challenges Amazon With a Promise: Fast Global Shipping'], ['amzn', 'Jul-08-21', '04:47AM\\xa0\\xa0', 'Microsoft is Making Money, but is it Overvalued?'], ['amzn', 'Jul-07-21', '05:45PM\\xa0\\xa0', 'Amazon (AMZN) Outpaces Stock Market Gains: What You Should Know'], ['amzn', 'Jul-07-21', '05:08PM\\xa0\\xa0', 'Super richs wealth concentration surpasses Gilded Age levels'], ['amzn', 'Jul-07-21', '05:05PM\\xa0\\xa0', 'HawkEye 360 CEO on the Space Races impact on future investment'], ['amzn', 'Jul-07-21', '04:27PM\\xa0\\xa0', 'Trump Sues Facebook, Twitter, Google Over Social Media Bans'], ['amzn', 'Jul-07-21', '04:10PM\\xa0\\xa0', 'Apple Shares Surge to Record High as Rally Picks Up Steam'], ['amzn', 'Jul-07-21', '03:55PM\\xa0\\xa0', 'The JEDI reboot allows U.S. to correct its mistake'], ['amzn', 'Jul-07-21', '02:47PM\\xa0\\xa0', \"Factbox-Six things to know about the Pentagon's defunct JEDI contract\"], ['amzn', 'Jul-07-21', '02:34PM\\xa0\\xa0', 'Amazon CEO Andy Jassy is inheriting a behemoth that is under siege'], ['amzn', 'Jul-07-21', '02:28PM\\xa0\\xa0', 'How Amazon Makes Money: e-commerce, advertising, and the cloud'], ['amzn', 'Jul-07-21', '02:24PM\\xa0\\xa0', 'Top Amazon Shareholders'], ['amzn', 'Jul-07-21', '02:19PM\\xa0\\xa0', 'Mega caps love plunging yields, meme stock Newegg doubles'], ['amzn', 'Jul-07-21', '12:40PM\\xa0\\xa0', 'When Big Tech Stumbles, the Market Can Fall Hard. These 5 Funds Can Help.'], ['amzn', 'Jul-07-21', '11:30AM\\xa0\\xa0', 'Dow Jones Rallies As Yields Dive; Tesla Stock Extends Losses, While Amazon, Apple, Shopify In Buy Zones'], ['amzn', 'Jul-07-21', '11:07AM\\xa0\\xa0', 'Antitrusts New Mission: Preserving Democracy, Not Efficiency'], ['amzn', 'Jul-07-21', '11:00AM\\xa0\\xa0', 'Top 10 High-Conviction Cloud Stocks to Buy on the Next Dip'], ['amzn', 'Jul-07-21', '10:35AM\\xa0\\xa0', 'Pentagon cancels cloud contract, Universal films head to Peacock, Chobani to go public'], ['amzn', 'Jul-07-21', '10:23AM\\xa0\\xa0', 'Microsoft (MSFT) Faces Blow as DoD Abandons $10B JEDI Deal'], ['amzn', 'Jul-07-21', '10:14AM\\xa0\\xa0', 'Big tech rally: Amazon at record high, Apple extends gains'], ['amzn', 'Jul-07-21', '10:12AM\\xa0\\xa0', \"Another Stimulus Check Coming? Here's a Great Stock to Buy If It Does\"], ['amzn', 'Jul-07-21', '09:25AM\\xa0\\xa0', 'Internet Stocks Boost E-commerce Game: Is Amazon Under Threat?'], ['amzn', 'Jul-07-21', '08:59AM\\xa0\\xa0', 'Will Apple Be Next to Hit All-Time Highs?'], ['amzn', 'Jul-07-21', '08:45AM\\xa0\\xa0', '2 Stocks That Could Double Your Money'], ['amzn', 'Jul-07-21', '08:13AM\\xa0\\xa0', 'Dow Jones Futures: Crude Oil Rebounds, Treasury Yields Keep Falling; Amazon, Shopify Lead 5 Techs In Buy Zones'], ['amzn', 'Jul-07-21', '07:54AM\\xa0\\xa0', 'Amazons Jeff Bezos Is Getting Richerand You Can Too'], ['amzn', 'Jul-07-21', '06:25AM\\xa0\\xa0', '4 Stocks to Watch Amid Rise in Enterprise Software Spending'], ['amzn', 'Jul-07-21', '06:17AM\\xa0\\xa0', '2 Stocks I Just Bought More Of'], ['amzn', 'Jul-07-21', '06:13AM\\xa0\\xa0', \"We Ranked 10 Top Meme Stocks -- Here's Where GameStop Landed\"], ['amzn', 'Jul-07-21', '06:07AM\\xa0\\xa0', 'PayPal Leading in the Wallet Wars, for Now'], ['amzn', 'Jul-07-21', '05:05AM\\xa0\\xa0', 'These Top-10 Robinhood Stocks Are Anything But Crazy Picks'], ['amzn', 'Jul-07-21', '03:56AM\\xa0\\xa0', 'Shell, Sunnova Rise Premarket; Didi Global Falls'], ['amzn', 'Jul-07-21', '03:28AM\\xa0\\xa0', 'Organized Chaos, Growth Concerns, COVID Variant, Trading Amazon and Microsoft'], ['amzn', 'Jul-07-21', '02:22AM\\xa0\\xa0', \"JOLTS, Fed Minutes, China Listing Crackdown - What's Moving Markets\"], ['amzn', 'Jul-07-21', '02:00AM\\xa0\\xa0', 'Amazon Notches Comeback Win in Years-Long Pentagon Cloud Battle'], ['amzn', 'Jul-07-21', '01:11AM\\xa0\\xa0', 'Amazon, Apple, Fed Minutes and Didi - 5 Things You Must Know Wednesday'], ['amzn', 'Jul-06-21', '06:32PM\\xa0\\xa0', 'Wall Street Unfazed by Amazon CEO Transition'], ['amzn', 'Jul-06-21', '06:08PM\\xa0\\xa0', 'These 2 Stock Giants Have Quietly Risen Toward All-Time Highs'], ['amzn', 'Jul-06-21', '05:43PM\\xa0\\xa0', 'S&P Breaks 7-Day Streak, Nasdaq Hits New Record High'], ['amzn', 'Jul-06-21', '05:31PM\\xa0\\xa0', 'Dow Jones Futures: Amazon, Shopify Lead 5 Techs Entering Buy Zones; Tesla Falls As China, Energy Stocks Hit Hard In Market Rally'], ['amzn', 'Jul-06-21', '05:23PM\\xa0\\xa0', 'The Market Cap Game Show: Episode 16'], ['amzn', 'Jul-06-21', '05:08PM\\xa0\\xa0', 'Jeff Bezos Hits Wealth Record of $211 Billion on Pentagon Move'], ['amzn', 'Jul-06-21', '04:58PM\\xa0\\xa0', 'Pentagon to rebid Jedi cloud contract'], ['amzn', 'Jul-06-21', '04:58PM\\xa0\\xa0', \"TIMELINE-The fight by Microsoft and Amazon for the Pentagon's cloud contract\"], ['amzn', 'Jul-06-21', '04:39PM\\xa0\\xa0', 'Pentagon Cancels JEDI Contract, Sets Stage For Microsoft-Amazon Rematch'], ['amzn', 'Jul-06-21', '04:24PM\\xa0\\xa0', 'Dow Jones Sells Off While Nasdaq Turns Positive, Hits New High; Apple Trades In Buy Zone As These Growth Stocks Break Out'], ['amzn', 'Jul-06-21', '04:20PM\\xa0\\xa0', 'Amazon stock rides to record as JEDI deal gets canceled on new CEOs first day'], ['amzn', 'Jul-06-21', '04:12PM\\xa0\\xa0', \"TIMELINE-Pentagon's cloud deal latest Trump move halted by Biden\"], ['amzn', 'Jul-06-21', '04:12PM\\xa0\\xa0', 'Microsofts JEDI Contract Canceled in Big Win for Amazon'], ['amzn', 'Jul-06-21', '04:07PM\\xa0\\xa0', 'Apple stock is on fire but will it last?'], ['amd', 'Jul-09-21', '10:10PM\\xa0\\xa0', 'Dow Jones Futures: Roku, AMD Lead 8 Stocks Near Buys In Market Rally; Tesla FSD Beta, Virgin Galactic Flight On Tap'], ['amd', 'Jul-09-21', '04:12PM\\xa0\\xa0', 'Is Nvidia Stock A Buy After Strong Post-Earnings Rally?'], ['amd', 'Jul-09-21', '12:45PM\\xa0\\xa0', '3 Reasons Growth Investors Will Love Advanced Micro (AMD)'], ['amd', 'Jul-09-21', '12:10PM\\xa0\\xa0', 'Will Advanced Micro (AMD) Beat Estimates Again in Its Next Earnings Report?'], ['amd', 'Jul-09-21', '12:07PM\\xa0\\xa0', 'AMD Stock Gains Handle'], ['amd', 'Jul-09-21', '08:23AM\\xa0\\xa0', 'Dow Jones Futures Signal Market Rally; Roku, AMD Lead 10 Bullish Reversals; Tesla Model Y To Europe Soon?'], ['amd', 'Jul-08-21', '12:15PM\\xa0\\xa0', \"Here's why the stock market just took a nosedive\"], ['amd', 'Jul-08-21', '09:00AM\\xa0\\xa0', 'Is AMD Stock Heading to $135?'], ['amd', 'Jul-07-21', '07:30PM\\xa0\\xa0', 'Bezos, Branson and Musk Scrambling For Supply Of This Rare Gas'], ['amd', 'Jul-07-21', '04:10PM\\xa0\\xa0', \"Is AMD Stock A Buy Ahead Of Chipmaker's Second-Quarter Earnings Report?\"], ['amd', 'Jul-07-21', '02:27PM\\xa0\\xa0', 'Nvidia stock is still a great buy despite the crypto winter: BofA analyst'], ['amd', 'Jul-07-21', '10:58AM\\xa0\\xa0', \"Micron will 'outgrow' the rest of the semiconductor industry\"], ['amd', 'Jul-07-21', '10:29AM\\xa0\\xa0', 'Why Trump is partly to blame for the U.S. chip shortage'], ['amd', 'Jul-07-21', '08:00AM\\xa0\\xa0', 'Good News Is Coming For Hot Tech Stocks In The Next 3 Months'], ['amd', 'Jul-07-21', '05:53AM\\xa0\\xa0', 'Will Competition Chip Away at Advanced Micro Devices Explosive Growth?'], ['amd', 'Jul-06-21', '04:20PM\\xa0\\xa0', 'Americans View Semiconductor Manufacturing As Vital To National Security'], ['amd', 'Jul-06-21', '02:25PM\\xa0\\xa0', 'Chipmaker Advanced Micro Devices Stock Gets Relative Strength Rating Upgrade'], ['amd', 'Jul-06-21', '05:20AM\\xa0\\xa0', 'Bull of the Day: NVIDIA (NVDA)'], ['amd', 'Jul-06-21', '05:06AM\\xa0\\xa0', \"Advanced Micro Devices, Inc.'s (NASDAQ:AMD) High 39.2 P/E Might be Backed by Growth and High Demand\"], ['amd', 'Jul-05-21', '05:45PM\\xa0\\xa0', 'Advanced Micro Devices (AMD) Outpaces Stock Market Gains: What You Should Know'], ['amd', 'Jul-03-21', '09:00AM\\xa0\\xa0', '5 Top Stocks for July'], ['amd', 'Jul-02-21', '01:53PM\\xa0\\xa0', '3 Heavyweight, Most-Shorted Stocks Breaking Out'], ['amd', 'Jul-02-21', '06:31AM\\xa0\\xa0', '7 Strong Stocks to Buy for July 2021'], ['amd', 'Jul-02-21', '05:47AM\\xa0\\xa0', \"Morning Bell With Jim Cramer: 'We Voted Up Advanced Micro'\"], ['amd', 'Jul-01-21', '05:29PM\\xa0\\xa0', '10 Stocks Both Reddits WallStreetBets and Hedge Funds Love'], ['amd', 'Jul-01-21', '09:31AM\\xa0\\xa0', 'Stock Market News for Jul 1, 2021'], ['amd', 'Jul-01-21', '07:40AM\\xa0\\xa0', 'Jim Cramer: We Saw Ample Opportunities in Individual Stocks in the First Half'], ['amd', 'Jul-01-21', '06:09AM\\xa0\\xa0', 'Advanced Micro Cleared by EU to Acquire Xilinx for $35B'], ['amd', 'Jul-01-21', '03:52AM\\xa0\\xa0', 'Micron, CureVac Fall Premarket; Walgreens Rises'], ['amd', 'Jun-30-21', '06:02PM\\xa0\\xa0', 'NVIDIA and AMD: Digital Flywheels of Super-Exponential Innovation'], ['amd', 'Jun-30-21', '05:34PM\\xa0\\xa0', 'Why AMD Stock Popped Today'], ['amd', 'Jun-30-21', '12:45PM\\xa0\\xa0', \"Don't Blink Or You'll Miss Today's 2 Key Nasdaq Winners\"], ['amd', 'Jun-30-21', '12:20PM\\xa0\\xa0', 'Dow Jones Leads, Nasdaq Lags As June Wraps Up; 2 Hot IPO Stocks To Watch'], ['amd', 'Jun-30-21', '11:30AM\\xa0\\xa0', \"TOP500's Supercomputer List Gives Investors Great Insight on AMD, NVIDIA, and Intel\"], ['amd', 'Jun-30-21', '09:25AM\\xa0\\xa0', 'Stock Market News for Jun 30, 2021'], ['amd', 'Jun-30-21', '08:30AM\\xa0\\xa0', \"Let's Take Another Look at the Advance Micro Devices Rally\"], ['amd', 'Jun-30-21', '04:53AM\\xa0\\xa0', 'I Ran A Stock Scan For Earnings Growth And Advanced Micro Devices (NASDAQ:AMD) Passed With Ease'], ['amd', 'Jun-29-21', '04:32PM\\xa0\\xa0', 'Intel Falls on Latest Server Chip Delay; Rival AMD Gains'], ['amd', 'Jun-29-21', '02:32PM\\xa0\\xa0', 'Morgan Stanley leads banks higher, AMD-Xilinx merger is a go, Mexico bans crypto'], ['amd', 'Jun-29-21', '01:44PM\\xa0\\xa0', 'Big banks raise dividends, Chip index hits record high, Facebook sinks below $1T, Bitcoin trades above $35K'], ['amd', 'Jun-29-21', '01:29PM\\xa0\\xa0', 'Another Intel product delay drags on chip stocks, Dow'], ['amd', 'Jun-29-21', '10:49AM\\xa0\\xa0', 'NVIDIA, AMD, or Intel: Which Is the Best Chip Stock to Buy Right Now?'], ['amd', 'Jun-29-21', '10:30AM\\xa0\\xa0', 'Can AMD Go on a Rally Like Nvidia and Hit All-Time Highs?'], ['amd', 'Jun-29-21', '06:04AM\\xa0\\xa0', 'Morning Bell With Jim Cramer: Micron Earnings, Nvidia and AMD'], ['amd', 'Jun-28-21', '05:45PM\\xa0\\xa0', 'Advanced Micro Devices (AMD) Outpaces Stock Market Gains: What You Should Know'], ['amd', 'Jun-28-21', '10:47AM\\xa0\\xa0', '15 Best Very Cheap Stocks to Buy Right Now'], ['amd', 'Jun-28-21', '09:00AM\\xa0\\xa0', 'AMD Leads High Performance Computing Towards Exascale and Beyond'], ['amd', 'Jun-25-21', '02:54PM\\xa0\\xa0', 'The Truth Behind Trading Semiconductor (Chip) Stocks (INTC, TXN)'], ['amd', 'Jun-25-21', '02:24PM\\xa0\\xa0', 'Top Tech Stocks for July 2021'], ['amd', 'Jun-25-21', '12:19PM\\xa0\\xa0', 'AMD Is a Good Tech Stock Trading at a Discount'], ['amd', 'Jun-25-21', '11:18AM\\xa0\\xa0', 'FormFactor (FORM) Expands Product Portfolio Via New Alliance'], ['amd', 'Jun-25-21', '10:45AM\\xa0\\xa0', 'Top Ranked Growth Stocks to Buy for June 25th'], ['amd', 'Jun-25-21', '10:34AM\\xa0\\xa0', 'New Strong Buy Stocks for June 25th'], ['amd', 'Jun-25-21', '09:27AM\\xa0\\xa0', 'Better Buy: Advanced Micro Devices vs. Intel'], ['amd', 'Jun-25-21', '08:42AM\\xa0\\xa0', 'Looking For an Escape From the Meme Stocks?'], ['amd', 'Jun-24-21', '10:30AM\\xa0\\xa0', '10 Companies that Benefit From Crypto Mining'], ['amd', 'Jun-24-21', '09:07AM\\xa0\\xa0', 'Here come the dividends'], ['amd', 'Jun-23-21', '05:31PM\\xa0\\xa0', 'AI Dreams and Reality: Investing in Advanced Technology'], ['amd', 'Jun-22-21', '05:45PM\\xa0\\xa0', 'Advanced Micro Devices (AMD) Outpaces Stock Market Gains: What You Should Know'], ['amd', 'Jun-22-21', '11:47AM\\xa0\\xa0', 'Got $1,000? Buy These Hot Growth Stocks Before They Take Off'], ['amd', 'Jun-22-21', '09:00AM\\xa0\\xa0', 'With AMD FidelityFX Super Resolution, AMD Brings High-Quality, High-Resolution Experiences to Gamers Worldwide'], ['amd', 'Jun-22-21', '03:01AM\\xa0\\xa0', 'U.S. Firm GlobalFoundries Invests $4 Billion in Singapore Chip Plant'], ['amd', 'Jun-21-21', '02:21PM\\xa0\\xa0', 'AMC FUD Runneth Over: Panic at the Casino!'], ['amd', 'Jun-21-21', '11:30AM\\xa0\\xa0', 'AMD and NVIDIA Had a Strong Week, but Is 1 Still Undervalued?'], ['amd', 'Jun-21-21', '08:20AM\\xa0\\xa0', '10 Chip Makers Paid Nearly $8 Billion in Stock Options. Why Investors Should Care.'], ['amd', 'Jun-21-21', '05:50AM\\xa0\\xa0', 'INTC Stock: Can Old Tech Be Relevant Again?'], ['amd', 'Jun-21-21', '04:00AM\\xa0\\xa0', 'Chip Companies Have Big Spending Plans. Here Is Another Cost Investors Should Watch.'], ['amd', 'Jun-18-21', '01:37PM\\xa0\\xa0', '15 Most Profitable Industries in the World in 2021'], ['amd', 'Jun-18-21', '12:22PM\\xa0\\xa0', 'Dow Jones Dives 400 Points As Stocks Sell Off, Breaks Key Support For First Time In Months'], ['amd', 'Jun-18-21', '09:57AM\\xa0\\xa0', '7 High-Risk, High-Reward Stocks to Buy If You Have an Iron-Clad Stomach'], ['amd', 'Jun-18-21', '09:23AM\\xa0\\xa0', 'Advanced Micro Devices Stock Popped 6%; Will the Momentum Continue?'], ['amd', 'Jun-17-21', '07:22PM\\xa0\\xa0', 'AMD Stock, Amazon Pop As Techs Take Center Stage: What Growth Investors Should Focus On Now'], ['amd', 'Jun-17-21', '05:35PM\\xa0\\xa0', '4 Top Stock Trades for Friday: AMD, NVDA, SLV, ADBE'], ['amd', 'Jun-17-21', '04:56PM\\xa0\\xa0', 'Dow Jones Futures: Adobe Earnings Strong As Techs Lead Split Stock Market Rally; Amazon, Google, PayPal, Microsoft Near Buy Points'], ['amd', 'Jun-17-21', '04:14PM\\xa0\\xa0', 'Why AMD Stock Rallied on Thursday'], ['amd', 'Jun-17-21', '12:30PM\\xa0\\xa0', '1 Big Reason to Dump AMD and Buy NVIDIA'], ['amd', 'Jun-17-21', '11:24AM\\xa0\\xa0', 'AMD, Google strike deal for new services'], ['amd', 'Jun-17-21', '11:00AM\\xa0\\xa0', 'Waters (WAT) Expands Reach to Scientists Via Latest Launch'], ['amd', 'Jun-17-21', '09:06AM\\xa0\\xa0', \"Google's cloud taps AMD for new service as chip wars heat up\"], ['amd', 'Jun-17-21', '09:00AM\\xa0\\xa0', \"Google's cloud taps AMD for new service as chip wars heat up\"], ['amd', 'Jun-17-21', '09:00AM\\xa0\\xa0', 'Google Selects 3rd Gen AMD EPYC Processors to Launch First Tau VM Instance'], ['amd', 'Jun-17-21', '08:43AM\\xa0\\xa0', 'AMD Shares Rise on Report of No EC Objection to Xilinx Merger'], ['amd', 'Jun-17-21', '08:43AM\\xa0\\xa0', '5 Top Stock Gainers for Thursday: Midatech Pharma, AMD, Nvidia'], ['amd', 'Jun-16-21', '01:57PM\\xa0\\xa0', \"Is AMD Stock A Buy Ahead Of Chipmaker's Second-Quarter Earnings Report?\"], ['amd', 'Jun-15-21', '04:20PM\\xa0\\xa0', '10 Best Stocks to Invest Your $1000'], ['amd', 'Jun-15-21', '07:00AM\\xa0\\xa0', \"Is Intel Stock A Buy Ahead Of Chipmaker's Second-Quarter Earnings Report?\"], ['amd', 'Jun-15-21', '06:58AM\\xa0\\xa0', 'Hedge Funds Are Cashing Out Of Advanced Micro Devices, Inc. (AMD)'], ['amd', 'Jun-14-21', '05:45PM\\xa0\\xa0', 'Advanced Micro Devices (AMD) Outpaces Stock Market Gains: What You Should Know'], ['amd', 'Jun-14-21', '02:05PM\\xa0\\xa0', 'AMD: Corporate Notebook Gains Set to Continue'], ['amd', 'Jun-14-21', '11:01AM\\xa0\\xa0', \"Can AMD Help Microsoft Beat Sony PS5's Scorching Sales?\"], ['amd', 'Jun-11-21', '12:04PM\\xa0\\xa0', \"AMD's EPYC Powers HPE's Alletra 6000, Expands Customer Base\"], ['amd', 'Jun-10-21', '12:47PM\\xa0\\xa0', 'AMDs stock has been left behind, but not for long  heres why'], ['amd', 'Jun-10-21', '10:21AM\\xa0\\xa0', \"I've Got a Little Idea With Big Potential: Advanced Micro Devices\"], ['amd', 'Jun-10-21', '09:00AM\\xa0\\xa0', 'AMD EPYC Processors Enable Next Generation of Hewlett Packard Enterprise Storage'], ['amd', 'Jun-09-21', '03:30AM\\xa0\\xa0', 'Semiconductor Watchlist: Jim Cramer Says to Own Nvidia, AMD and Broadcom'], ['amd', 'Jun-08-21', '05:45PM\\xa0\\xa0', 'Advanced Micro Devices (AMD) Stock Sinks As Market Gains: What You Should Know'], ['amd', 'Jun-08-21', '11:08AM\\xa0\\xa0', \"Qualcomm CEO-Elect: We're just at the beginning of our 5G innovation\"], ['amd', 'Jun-08-21', '09:00AM\\xa0\\xa0', 'New AMD Radeon PRO W6000 Series Workstation Graphics with AMD RDNA 2 Architecture and Massive 32GB of Memory to Power Demanding Architectural, Design and Media Workloads'], ['amd', 'Jun-08-21', '06:40AM\\xa0\\xa0', \"The Zacks Analyst Blog Highlights: Advanced Micro Devices, Bloomin' Brands, Boyd Gaming Corp, 3D Systems Corp and Apple\"], ['amd', 'Jun-08-21', '04:39AM\\xa0\\xa0', 'SoftBank Seeks $7.5 Billion Loan Secured by Planned Arm Sale'], ['goog', 'Jul-09-21', '08:33PM\\xa0\\xa0', 'Alphabet Stock Can Be Had for a Discount. Heres How.'], ['goog', 'Jul-09-21', '05:45PM\\xa0\\xa0', 'Alphabet Inc. (GOOG) Gains But Lags Market: What You Should Know'], ['goog', 'Jul-09-21', '04:59PM\\xa0\\xa0', 'This week in Bidenomics'], ['goog', 'Jul-09-21', '04:21PM\\xa0\\xa0', \"'You really need Congress and you need legislation to really bring about meaningful change in antitrust policy': Insigneo Chief Investment Strategist\"], ['goog', 'Jul-09-21', '03:42PM\\xa0\\xa0', 'Tech Deals, Data Come Under Fire in Bidens Sweeping Order'], ['goog', 'Jul-09-21', '02:32PM\\xa0\\xa0', 'This week in Bidenomics: Big is bad'], ['goog', 'Jul-09-21', '02:27PM\\xa0\\xa0', 'Is Snowflake Stock A Buy? Software Maker Sets Path To $10 Billion In Revenue By 2028'], ['goog', 'Jul-09-21', '01:34PM\\xa0\\xa0', 'GOOGL Stock, Nvidia Lead Latest List Of New Buys By The Best Mutual Funds'], ['goog', 'Jul-09-21', '12:28PM\\xa0\\xa0', 'News Corp Closes Knewz.com After Launching Google News Rival Last Year'], ['goog', 'Jul-09-21', '10:55AM\\xa0\\xa0', 'Biden targets tech, drugs prices in new executive order'], ['goog', 'Jul-09-21', '08:30AM\\xa0\\xa0', 'Arm Yourself With Real Returns to Protect Against Valuation Corrections'], ['goog', 'Jul-09-21', '08:00AM\\xa0\\xa0', 'Hot Stocks Apple, Microsoft, Nvidia Lead Lower-Risk Tech Play Near Buy Point'], ['goog', 'Jul-09-21', '07:26AM\\xa0\\xa0', \"[video]Biden's Executive Order on Competition Could Slice Several Companies Into Pieces\"], ['goog', 'Jul-09-21', '06:06AM\\xa0\\xa0', 'The 1 FAANG Stock to Buy Hand Over Fist for the Second Half of 2021 (and Beyond)'], ['goog', 'Jul-09-21', '05:53AM\\xa0\\xa0', 'Morning Bell With Jim Cramer: Attack on Big Tech'], ['goog', 'Jul-09-21', '05:49AM\\xa0\\xa0', 'Google to Hear French Anti-Trust Decision On Its Talks with Publishers Within Days  Report'], ['goog', 'Jul-09-21', '03:30AM\\xa0\\xa0', 'Tech Stocks Roundup: Jim Cramer Says FAANG Is Not Dead'], ['goog', 'Jul-08-21', '11:18PM\\xa0\\xa0', 'Twitter  to Fully Comply With India Internet Rules'], ['goog', 'Jul-08-21', '05:45PM\\xa0\\xa0', 'Alphabet (GOOGL) Dips More Than Broader Markets: What You Should Know'], ['goog', 'Jul-08-21', '04:34PM\\xa0\\xa0', 'Trump is using an unusual legal argument in his suits against Facebook, Twitter, and YouTube'], ['goog', 'Jul-08-21', '04:16PM\\xa0\\xa0', '3 Key Things to Know About the Google App Store Lawsuit'], ['goog', 'Jul-08-21', '03:08PM\\xa0\\xa0', '3 Key Things to Know About the Google App Store Lawsuit'], ['goog', 'Jul-08-21', '01:18PM\\xa0\\xa0', 'Ford-Backed Argo\\xa0Chooses Citigroup, JPMorgan to Go Public'], ['goog', 'Jul-08-21', '12:51PM\\xa0\\xa0', 'Apple Is Next: Why State and Federal Lawsuits Over the App Store Are Inevitable'], ['goog', 'Jul-08-21', '12:23PM\\xa0\\xa0', \"Alphabet's (GOOGL) Google Ties Up With AT&T to Boost Clientele\"], ['goog', 'Jul-08-21', '12:15PM\\xa0\\xa0', \"Here's why the stock market just took a nosedive\"], ['goog', 'Jul-08-21', '12:05PM\\xa0\\xa0', 'Google faces antitrust lawsuit over app store fees'], ['goog', 'Jul-08-21', '11:44AM\\xa0\\xa0', 'Global COVID-19 deaths top 4 million, Google antitrust suit, Paul Pelosis big tech bet'], ['goog', 'Jul-08-21', '11:25AM\\xa0\\xa0', 'Bond yields decline an aberration: Hugh Johnson'], ['goog', 'Jul-08-21', '11:08AM\\xa0\\xa0', '10 Best Dividend Stocks to Buy According to Billionaire Michael Price'], ['goog', 'Jul-08-21', '10:47AM\\xa0\\xa0', '3 Top Stocks to Buy for the Second Half of 2021'], ['goog', 'Jul-08-21', '10:43AM\\xa0\\xa0', 'This Is How Alphabet (Still) Makes Most of Its Money'], ['goog', 'Jul-08-21', '10:00AM\\xa0\\xa0', 'Pokémon Card Frenzy Is Making Collectors and Startups Rich'], ['goog', 'Jul-08-21', '09:27AM\\xa0\\xa0', \"Why Spotify's Massive Spending Spree Is Good News for the Stock\"], ['goog', 'Jul-08-21', '08:42AM\\xa0\\xa0', '10 Best Dividend Stocks to Buy According to Traci Lerners Chescapmanager'], ['goog', 'Jul-08-21', '08:26AM\\xa0\\xa0', 'House Speaker Nancy Pelosis husband cashed in on Big Tech just as Congress was set to pounce'], ['goog', 'Jul-08-21', '08:19AM\\xa0\\xa0', '36 States File Suit Against Google for Antitrust Violations'], ['goog', 'Jul-08-21', '07:52AM\\xa0\\xa0', 'Japan Declared a National Emergency. Covid Is Crushing the Stock Market Again.'], ['goog', 'Jul-08-21', '07:37AM\\xa0\\xa0', 'Wharton Grad Set to Take on Big Tech as New India Minister'], ['goog', 'Jul-08-21', '07:29AM\\xa0\\xa0', 'Google Sued Over Alleged Play Store Abuses  Report'], ['goog', 'Jul-08-21', '07:18AM\\xa0\\xa0', 'Why economists think bond yields are falling, slamming the S&P 500 and the Dow as the likes of Amazon benefit'], ['goog', 'Jul-08-21', '06:33AM\\xa0\\xa0', 'Google saw Samsung app store and Fortnite as virus to be eliminated, huge new lawsuit claims'], ['goog', 'Jul-08-21', '05:36AM\\xa0\\xa0', 'Southeast Asia Is Worlds Fastest-Growing Mobile Wallet Market'], ['goog', 'Jul-08-21', '05:24AM\\xa0\\xa0', \"UPDATE 1-French anti-trust decision on Google's copyright talks with publishers due in coming days\"], ['goog', 'Jul-08-21', '05:11AM\\xa0\\xa0', \"French anti-trust decision on Google's copyright talks with publishers due in coming days\"], ['goog', 'Jul-08-21', '05:01AM\\xa0\\xa0', \"French anti-trust decision on Google's deal with French publishers due in coming days\"], ['goog', 'Jul-08-21', '02:54AM\\xa0\\xa0', 'Dow Futures 500 Pts Lower; Covid Surge Prompts Growth Worries'], ['goog', 'Jul-08-21', '02:25AM\\xa0\\xa0', \"Growth Fears, ECB, Jobless Claims, Olympics Blow - What's Moving Markets\"], ['goog', 'Jul-08-21', '01:12AM\\xa0\\xa0', 'Tesla, Newegg, Google, Growth Concerns - 5 Things You Must Know Thursday'], ['goog', 'Jul-08-21', '12:01AM\\xa0\\xa0', 'Mapping Big Techs Pursuit of Live Shopping'], ['goog', 'Jul-07-21', '09:44PM\\xa0\\xa0', 'Google Sued by 36 States Over Alleged Play Store Abuses'], ['goog', 'Jul-07-21', '07:46PM\\xa0\\xa0', 'These Are The Best Robinhood Stocks To Buy Or Watch Now'], ['goog', 'Jul-07-21', '07:30PM\\xa0\\xa0', 'Bezos, Branson and Musk Scrambling For Supply Of This Rare Gas'], ['goog', 'Jul-07-21', '07:16PM\\xa0\\xa0', 'Trump Sues to Force Way Back Into Social Media'], ['goog', 'Jul-07-21', '06:26PM\\xa0\\xa0', 'Google sued by states alleging Play Store fees violate antitrust law'], ['goog', 'Jul-07-21', '06:24PM\\xa0\\xa0', 'Trump Is Suing 3 Social Media Giants. How to Figure Out the Fallout.'], ['goog', 'Jul-07-21', '06:19PM\\xa0\\xa0', 'Pelosis Husband Locked in $5.3 Million from Alphabet Options'], ['goog', 'Jul-07-21', '05:18PM\\xa0\\xa0', '10 Top Hedge Funds Focusing on ESG and Impact Investing'], ['goog', 'Jul-07-21', '05:08PM\\xa0\\xa0', \"UPDATE 2-Dozens of U.S. states sue Google over Play Store's 'extravagant commission'\"], ['goog', 'Jul-07-21', '04:56PM\\xa0\\xa0', 'Google faces fresh antitrust suit from states targeting Play Store'], ['goog', 'Jul-07-21', '04:48PM\\xa0\\xa0', \"Dozens of U.S. states sue Google over Play Store's 'extravagant commission'\"], ['goog', 'Jul-07-21', '04:29PM\\xa0\\xa0', '10 Stocks Cathie Wood Is Selling'], ['goog', 'Jul-07-21', '02:47PM\\xa0\\xa0', 'Mozilla Study Alleges YouTube Search Algorithm Violates Own Policies: WSJ'], ['goog', 'Jul-07-21', '02:34PM\\xa0\\xa0', 'Amazon CEO Andy Jassy is inheriting a behemoth that is under siege'], ['goog', 'Jul-07-21', '02:19PM\\xa0\\xa0', 'Mega caps love plunging yields, meme stock Newegg doubles'], ['goog', 'Jul-07-21', '01:49PM\\xa0\\xa0', 'Trump files lawsuit against Facebook, Google, Twitter'], ['goog', 'Jul-07-21', '01:35PM\\xa0\\xa0', 'Former President Trump says he is suing Facebook, Twitter, Google'], ['goog', 'Jul-07-21', '12:56PM\\xa0\\xa0', \"Trump sues Facebook, Twitter, and YouTube alleging 'censorship of the American people'\"], ['goog', 'Jul-07-21', '11:34AM\\xa0\\xa0', 'UPDATE 2-Trump sues Facebook, Twitter and Google, claiming censorship'], ['goog', 'Jul-07-21', '11:33AM\\xa0\\xa0', '10 Best Bargain Stocks Right Now'], ['goog', 'Jul-07-21', '11:21AM\\xa0\\xa0', 'Trump sues Facebook, Twitter and Google, claiming censorship'], ['goog', 'Jul-07-21', '10:54AM\\xa0\\xa0', \"S&P 500 Holds Gains; Fed's Minutes Signal Taper Threshold Still Illusive\"], ['goog', 'Jul-07-21', '10:14AM\\xa0\\xa0', 'Big tech rally: Amazon at record high, Apple extends gains'], ['goog', 'Jul-07-21', '09:44AM\\xa0\\xa0', 'AT&T (T) Extends 5G & Edge Capabilities With Google Cloud'], ['goog', 'Jul-07-21', '09:30AM\\xa0\\xa0', 'Is Salesforce Stock A Buy? Slack Deal Synergies Key For Digital Transformation Leader'], ['goog', 'Jul-07-21', '09:25AM\\xa0\\xa0', 'Internet Stocks Boost E-commerce Game: Is Amazon Under Threat?'], ['goog', 'Jul-07-21', '09:12AM\\xa0\\xa0', 'Trump Sues Google, Facebook and Twitter Over Account Suspension'], ['goog', 'Jul-07-21', '06:07AM\\xa0\\xa0', 'PayPal Leading in the Wallet Wars, for Now'], ['goog', 'Jul-07-21', '05:10AM\\xa0\\xa0', 'Uber Could Transport Investors to New Growth'], ['goog', 'Jul-07-21', '02:00AM\\xa0\\xa0', 'Amazon Notches Comeback Win in Years-Long Pentagon Cloud Battle'], ['goog', 'Jul-06-21', '07:30PM\\xa0\\xa0', 'Is This The Hottest ESG Stock Of 2021?'], ['goog', 'Jul-06-21', '04:26PM\\xa0\\xa0', '3 Tech Stocks Worth a Look'], ['goog', 'Jul-06-21', '04:07PM\\xa0\\xa0', 'Apple stock is on fire but will it last?'], ['goog', 'Jul-06-21', '04:00PM\\xa0\\xa0', 'Can Google, Tesla, Microsoft, CrowdStrike, PayPal Keep The Tech Train Rolling?'], ['goog', 'Jul-06-21', '02:35PM\\xa0\\xa0', 'AT&T, Google Cloud Expand 5G, Edge Partnership'], ['goog', 'Jul-06-21', '12:40PM\\xa0\\xa0', 'Nvidia Stock Is A Play On The Future Of Artificial Intelligence'], ['goog', 'Jul-06-21', '12:27PM\\xa0\\xa0', 'Alphabet Stock Can Be Had for a Discount. Heres How.'], ['goog', 'Jul-06-21', '10:42AM\\xa0\\xa0', \"Alphabet's (GOOGL) Google to Widen Reach With Wear OS 3.0\"], ['goog', 'Jul-06-21', '08:14AM\\xa0\\xa0', 'Is Google Stock A Buy? Internet Search Giant Could Finally Be Best FANG Stock In 2021'], ['goog', 'Jul-06-21', '08:11AM\\xa0\\xa0', 'Dow Jones Futures: Crude Oil Prices Hit 6-Year High On Divided OPEC+; Didi IPO Crashes'], ['goog', 'Jul-06-21', '08:00AM\\xa0\\xa0', \"Cloud Stocks Change Name Of The Cloud Computing Game With 'Containers'\"], ['goog', 'Jul-06-21', '07:45AM\\xa0\\xa0', \"What Investors Should Know About Google's Latest 5G Deal\"], ['goog', 'Jul-06-21', '07:30AM\\xa0\\xa0', 'Better Buy: Alphabet vs. Apple'], ['goog', 'Jul-06-21', '06:04AM\\xa0\\xa0', 'Carrie Lam Dismisses Fears Over Hong Kong Bill Spooking Big Tech'], ['goog', 'Jul-06-21', '05:49AM\\xa0\\xa0', '4 Stocks to Make the Most of Surging Demand for AI'], ['goog', 'Jul-06-21', '04:06AM\\xa0\\xa0', 'Didi Shows Chinas Tech Giants Must First Answer to Beijing'], ['goog', 'Jul-05-21', '01:52PM\\xa0\\xa0', \"Here's Why PubMatic Stock Was Up 32% in June\"], ['goog', 'Jul-05-21', '11:41AM\\xa0\\xa0', 'Dow Jones Futures: Apple, Google, Tech Titans Drive Stock Market Rally; Divided OPEC+ Postpones Talks'], ['goog', 'Jul-05-21', '11:12AM\\xa0\\xa0', 'Google hides secret pinball game in one of its biggest iPhone apps'], ['goog', 'Jul-05-21', '10:36AM\\xa0\\xa0', 'Facebook, Twitter and Google threaten Hong Kong shutdown over new data law'], ['fb', 'Jul-09-21', '04:59PM\\xa0\\xa0', 'This week in Bidenomics'], ['fb', 'Jul-09-21', '04:46PM\\xa0\\xa0', 'Amazon and Facebook are unnamed targets of Bidens executive order'], ['fb', 'Jul-09-21', '03:42PM\\xa0\\xa0', 'Tech Deals, Data Come Under Fire in Bidens Sweeping Order'], ['fb', 'Jul-09-21', '02:32PM\\xa0\\xa0', 'This week in Bidenomics: Big is bad'], ['fb', 'Jul-09-21', '10:55AM\\xa0\\xa0', 'Biden targets tech, drugs prices in new executive order'], ['fb', 'Jul-09-21', '08:00AM\\xa0\\xa0', 'Hate speech on Facebook is here to stay'], ['fb', 'Jul-09-21', '07:16AM\\xa0\\xa0', 'Facebook Is Gaining Attention From Regulators'], ['fb', 'Jul-09-21', '03:29AM\\xa0\\xa0', \"How Vietnam's 'influencer' army wages information warfare on Facebook\"], ['fb', 'Jul-09-21', '03:26AM\\xa0\\xa0', \"INSIGHT-How Vietnam's 'influencer' army wages information warfare on Facebook\"], ['fb', 'Jul-08-21', '11:18PM\\xa0\\xa0', 'Twitter  to Fully Comply With India Internet Rules'], ['fb', 'Jul-08-21', '04:34PM\\xa0\\xa0', 'Trump is using an unusual legal argument in his suits against Facebook, Twitter, and YouTube'], ['fb', 'Jul-08-21', '04:24PM\\xa0\\xa0', 'Is Shopify Stock A Buy As Tech Partnerships Expand?'], ['fb', 'Jul-08-21', '03:56PM\\xa0\\xa0', \"Facebook 'lost' important rule on dangerous individuals for three years - oversight board\"], ['fb', 'Jul-08-21', '03:43PM\\xa0\\xa0', \"Facebook 'lost' important rule on dangerous individuals for three years - oversight board\"], ['fb', 'Jul-08-21', '03:10PM\\xa0\\xa0', 'Facebook Appoints Longtime Executive As Core App Head After Losing Fidji Simo To Instacart'], ['fb', 'Jul-08-21', '01:21PM\\xa0\\xa0', 'UPDATE 2-Instacart taps Facebook app head Simo as CEO'], ['fb', 'Jul-08-21', '12:05PM\\xa0\\xa0', 'Instacart Names Facebook Veteran Fidji Simo as CEO'], ['fb', 'Jul-08-21', '11:58AM\\xa0\\xa0', 'Head of Facebooks App, Fidji Simo, Jumps Ship to Join Instacart as CEO'], ['fb', 'Jul-08-21', '11:45AM\\xa0\\xa0', 'Instacart taps Facebook app head Simo as CEO'], ['fb', 'Jul-08-21', '11:30AM\\xa0\\xa0', 'Instacart taps Facebook app head Simo as CEO'], ['fb', 'Jul-08-21', '11:30AM\\xa0\\xa0', 'Instacart Taps Facebooks Simo as New CEO Ahead of Planned IPO'], ['fb', 'Jul-08-21', '11:25AM\\xa0\\xa0', 'Bond yields decline an aberration: Hugh Johnson'], ['fb', 'Jul-08-21', '09:45AM\\xa0\\xa0', 'Instacart Names Facebook App Executive Simo as CEO'], ['fb', 'Jul-08-21', '07:37AM\\xa0\\xa0', 'Wharton Grad Set to Take on Big Tech as New India Minister'], ['fb', 'Jul-07-21', '09:44PM\\xa0\\xa0', 'Google Sued by 36 States Over Alleged Play Store Abuses'], ['fb', 'Jul-07-21', '08:38PM\\xa0\\xa0', 'These Are The 5 Best Stocks To Buy And Watch Now'], ['fb', 'Jul-07-21', '08:00PM\\xa0\\xa0', 'Senior Facebook executive leaves to become Instacart chief'], ['fb', 'Jul-07-21', '06:24PM\\xa0\\xa0', 'Trump Is Suing 3 Social Media Giants. How to Figure Out the Fallout.'], ['fb', 'Jul-07-21', '05:08PM\\xa0\\xa0', 'Super richs wealth concentration surpasses Gilded Age levels'], ['fb', 'Jul-07-21', '04:27PM\\xa0\\xa0', 'Trump Sues Facebook, Twitter, Google Over Social Media Bans'], ['fb', 'Jul-07-21', '04:10PM\\xa0\\xa0', 'Apple Shares Surge to Record High as Rally Picks Up Steam'], ['fb', 'Jul-07-21', '01:49PM\\xa0\\xa0', 'Trump files lawsuit against Facebook, Google, Twitter'], ['fb', 'Jul-07-21', '01:35PM\\xa0\\xa0', 'Former President Trump says he is suing Facebook, Twitter, Google'], ['fb', 'Jul-07-21', '12:56PM\\xa0\\xa0', \"Trump sues Facebook, Twitter, and YouTube alleging 'censorship of the American people'\"], ['fb', 'Jul-07-21', '11:21AM\\xa0\\xa0', 'Trump sues Facebook, Twitter and Google, claiming censorship'], ['fb', 'Jul-07-21', '09:31AM\\xa0\\xa0', 'Nextdoor CEO on $4.3B SPAC merger deal'], ['fb', 'Jul-07-21', '09:08AM\\xa0\\xa0', '10 Best Dividend Stocks to Buy According to English Warren Buffett Terry Smith'], ['fb', 'Jul-07-21', '08:00AM\\xa0\\xa0', 'Americas Stocks Have Lost Their Exceptionalism (Except Big Tech)'], ['fb', 'Jul-07-21', '07:00AM\\xa0\\xa0', 'Banner Quarter From Facebook, Google Could Mask Apples Bite'], ['fb', 'Jul-06-21', '04:07PM\\xa0\\xa0', 'Apple stock is on fire but will it last?'], ['fb', 'Jul-06-21', '02:26PM\\xa0\\xa0', 'Nextdoor to Go Public in SPAC Deal Valued at $4.3 Billion'], ['fb', 'Jul-06-21', '02:26PM\\xa0\\xa0', 'Is Amazon stock ready for blast-off before Jeff Bezos reaches space?'], ['fb', 'Jul-06-21', '08:11AM\\xa0\\xa0', 'Dow Jones Futures: Crude Oil Prices Hit 6-Year High On Divided OPEC+; Didi IPO Crashes'], ['fb', 'Jul-06-21', '06:04AM\\xa0\\xa0', 'Carrie Lam Dismisses Fears Over Hong Kong Bill Spooking Big Tech'], ['fb', 'Jul-06-21', '05:51AM\\xa0\\xa0', \"3 Value Stocks That'll Make You Richer in the Second Half of 2021 (and Beyond)\"], ['fb', 'Jul-06-21', '02:30AM\\xa0\\xa0', 'Big Tech Antitrust Battle Continues: Risks And Opportunities For Investors'], ['fb', 'Jul-05-21', '05:45PM\\xa0\\xa0', 'Facebook (FB) Gains But Lags Market: What You Should Know'], ['fb', 'Jul-05-21', '03:36PM\\xa0\\xa0', \"FB Stock Still A Buy? Facebook Target Hiked After 'Partial' Court Victory\"], ['fb', 'Jul-05-21', '11:41AM\\xa0\\xa0', 'Dow Jones Futures: Apple, Google, Tech Titans Drive Stock Market Rally; Divided OPEC+ Postpones Talks'], ['fb', 'Jul-05-21', '10:26AM\\xa0\\xa0', '10 Stocks Michael Burry is Selling'], ['fb', 'Jul-05-21', '10:01AM\\xa0\\xa0', 'Soccer-La Liga returns to traditional TV in India as Facebook deal ends'], ['fb', 'Jul-05-21', '05:30AM\\xa0\\xa0', 'After Apple Tightens Tracking Rules, Advertisers Shift Spending Toward Android Devices'], ['fb', 'Jul-05-21', '03:02AM\\xa0\\xa0', \"We Like Facebook's (NASDAQ:FB) Returns And Here's How They're Trending\"], ['fb', 'Jul-03-21', '04:43PM\\xa0\\xa0', 'UPDATE 1-Facebook says services restored after outage'], ['fb', 'Jul-03-21', '04:28PM\\xa0\\xa0', \"Dutch Court Rejects Facebook's Offer To Dismiss Privacy Lawsuit In Netherlands\"], ['fb', 'Jul-02-21', '08:21PM\\xa0\\xa0', 'Facebook Turns Back Antitrust Charges. But Regulatory Risk Is Rising.'], ['fb', 'Jul-02-21', '07:20PM\\xa0\\xa0', 'Facebook Turns Back Antitrust Charges. But Regulatory Risk Is Rising.'], ['fb', 'Jul-02-21', '03:19PM\\xa0\\xa0', 'Broadcom Settles U.S. Monopoly Case Over Chip Contracts'], ['fb', 'Jul-02-21', '02:54PM\\xa0\\xa0', 'US Lawmakers Request FTC To File Antitrust Lawsuit On Facebook: Reuters'], ['fb', 'Jul-02-21', '02:48PM\\xa0\\xa0', 'Biden Touts U.S. Virus Achievement Ahead of July 4: Virus Update'], ['fb', 'Jul-02-21', '11:31AM\\xa0\\xa0', 'UPDATE 2-Facebook under fire as U.S. lawmakers press for new antitrust complaint'], ['fb', 'Jul-02-21', '11:15AM\\xa0\\xa0', 'Facebook under fire as U.S. lawmakers press for new antitrust complaint'], ['fb', 'Jul-02-21', '09:00AM\\xa0\\xa0', 'Facebook to Announce Second Quarter 2021 Results'], ['fb', 'Jul-02-21', '07:00AM\\xa0\\xa0', 'Scenes From Silicon Valleys Cautious Return to the Office'], ['fb', 'Jul-02-21', '05:55AM\\xa0\\xa0', 'Facebook asks if you know someone becoming an extremist in new prompt test'], ['fb', 'Jul-02-21', '03:59AM\\xa0\\xa0', 'Facebook set to finance regional Australia newspaper fund'], ['fb', 'Jul-02-21', '03:12AM\\xa0\\xa0', 'Facebook set to finance regional Australia newspaper fund'], ['fb', 'Jul-01-21', '06:15PM\\xa0\\xa0', 'TikTok And YouTube Effect On Instagram Pushes It Towards Video: FT'], ['fb', 'Jul-01-21', '04:49PM\\xa0\\xa0', 'Facebook asks: Are your friends becoming extremists?'], ['fb', 'Jul-01-21', '04:44PM\\xa0\\xa0', 'Facebook asks: Are your friends becoming extremists?'], ['fb', 'Jul-01-21', '01:58PM\\xa0\\xa0', \"Facebook partners with 'Assassin's Creed' maker in cloud-gaming push\"], ['fb', 'Jul-01-21', '01:36PM\\xa0\\xa0', \"Facebook partners with 'Assassin's Creed' maker in cloud-gaming push\"], ['fb', 'Jul-01-21', '01:04PM\\xa0\\xa0', 'Lawmakers Are Piling On Big Tech In Ways Like Never Before'], ['fb', 'Jul-01-21', '12:58PM\\xa0\\xa0', 'FTC has a chance for a do-over in its fiasco antitrust case against Facebook, legal experts contend'], ['fb', 'Jul-01-21', '09:10AM\\xa0\\xa0', 'The worlds social media giants admit they cant protect women online'], ['fb', 'Jul-01-21', '06:14AM\\xa0\\xa0', 'At the Trillion-Dollar Mark, Is Facebook a Buy?'], ['fb', 'Jun-30-21', '06:55PM\\xa0\\xa0', 'Amazon Wants FTC Chair Khan Recused Over Past Criticism'], ['fb', 'Jun-30-21', '01:27PM\\xa0\\xa0', \"Is Snap Stock A Buy Right Now? Here's What Earnings, Charts Show\"], ['fb', 'Jun-30-21', '01:20PM\\xa0\\xa0', \"Facebooks early antitrust win doesn't let it or Big Tech off the hook\"], ['fb', 'Jun-30-21', '12:21PM\\xa0\\xa0', 'Google and\\xa0Microsoft End Their Five-Year Cease-Fire'], ['fb', 'Jun-30-21', '09:54AM\\xa0\\xa0', 'Facebook (FB) Unveils Newsletter Platform Bulletin for Writers'], ['fb', 'Jun-30-21', '09:03AM\\xa0\\xa0', 'Big Tech Is Gearing Up for a Massive Fight With Modis India'], ['fb', 'Jun-30-21', '06:30AM\\xa0\\xa0', 'Facebook is coming for your email inbox'], ['fb', 'Jun-30-21', '02:00AM\\xa0\\xa0', 'FTC Revival of Facebook Case Hinges on Bolstering Monopoly Claim'], ['fb', 'Jun-29-21', '08:00PM\\xa0\\xa0', 'German official calls for government bodies to close Facebook pages'], ['fb', 'Jun-29-21', '05:56PM\\xa0\\xa0', '10 Best Tech Stocks to Buy According to Japanese Billionaire Masayoshi Son'], ['fb', 'Jun-29-21', '05:45PM\\xa0\\xa0', 'Facebook (FB) Stock Sinks As Market Gains: What You Should Know'], ['fb', 'Jun-29-21', '04:15PM\\xa0\\xa0', 'Twitters Top Sales, Partnerships Executive Leaving the Company'], ['fb', 'Jun-29-21', '03:06PM\\xa0\\xa0', 'Facebook Unveils Bulletin Newsletter Service With Erin Andrews, Malcolm Gladwell Among First Partners'], ['fb', 'Jun-29-21', '03:01PM\\xa0\\xa0', \"Jim Cramer: The Government Isn't a Reason to Sell Facebook or the FAANG Stocks\"], ['fb', 'Jun-29-21', '02:48PM\\xa0\\xa0', 'Facebook sues California marketing firm, Vietnamese group for online scams'], ['fb', 'Jun-29-21', '02:39PM\\xa0\\xa0', 'Zuckerberg Unveils Facebook Newsletter Product Called Bulletin'], ['fb', 'Jun-29-21', '02:33PM\\xa0\\xa0', 'UPDATE 3-Facebook launches newsletter product Bulletin, its Substack rival'], ['fb', 'Jun-29-21', '02:28PM\\xa0\\xa0', 'Facebook launches newsletter product Bulletin, its Substack rival'], ['fb', 'Jun-29-21', '02:12PM\\xa0\\xa0', 'German privacy tsar tells ministries to shut Facebook pages'], ['fb', 'Jun-29-21', '02:12PM\\xa0\\xa0', 'What Facebooks antitrust win means for big tech'], ['fb', 'Jun-29-21', '02:05PM\\xa0\\xa0', 'The Road Ahead for Facebook'], ['fb', 'Jun-29-21', '02:05PM\\xa0\\xa0', 'Facebook Got a Big Win, but  Megacap Regulatory Battles Are Just Beginning'], ['fb', 'Jun-29-21', '01:58PM\\xa0\\xa0', 'UPDATE 1-German privacy tsar tells ministries to shut Facebook pages'], ['fb', 'Jun-29-21', '01:44PM\\xa0\\xa0', 'Big banks raise dividends, Chip index hits record high, Facebook sinks below $1T, Bitcoin trades above $35K']]\n"
     ]
    }
   ],
   "source": [
    "parsed_data=[]\n",
    "for tkicker, news_table in news_tables.items():\n",
    "    \n",
    "    for row in news_table.findAll('tr'):\n",
    "        title = row.a.text\n",
    "        date_data = row.td.text.split(\" \")\n",
    "        if len(date_data)==1:\n",
    "            time = date_data[0]\n",
    "        else:\n",
    "            date = date_data[0]\n",
    "            time = date_data[1]\n",
    "        parsed_data.append([tkicker,date,time,title])\n",
    "print(parsed_data)"
   ]
  },
  {
   "cell_type": "code",
   "execution_count": 7,
   "id": "de7b2b87",
   "metadata": {},
   "outputs": [],
   "source": [
    "df = pd.DataFrame(parsed_data,columns=[\"tkicker\",\"date\",\"time\",\"title\"])"
   ]
  },
  {
   "cell_type": "code",
   "execution_count": 8,
   "id": "53c559a2",
   "metadata": {},
   "outputs": [
    {
     "data": {
      "text/html": [
       "<div>\n",
       "<style scoped>\n",
       "    .dataframe tbody tr th:only-of-type {\n",
       "        vertical-align: middle;\n",
       "    }\n",
       "\n",
       "    .dataframe tbody tr th {\n",
       "        vertical-align: top;\n",
       "    }\n",
       "\n",
       "    .dataframe thead th {\n",
       "        text-align: right;\n",
       "    }\n",
       "</style>\n",
       "<table border=\"1\" class=\"dataframe\">\n",
       "  <thead>\n",
       "    <tr style=\"text-align: right;\">\n",
       "      <th></th>\n",
       "      <th>tkicker</th>\n",
       "      <th>date</th>\n",
       "      <th>time</th>\n",
       "      <th>title</th>\n",
       "    </tr>\n",
       "  </thead>\n",
       "  <tbody>\n",
       "    <tr>\n",
       "      <th>0</th>\n",
       "      <td>amzn</td>\n",
       "      <td>Jul-10-21</td>\n",
       "      <td>12:35AM</td>\n",
       "      <td>The Pentagon's JEDI Contract Is Dead -- but It...</td>\n",
       "    </tr>\n",
       "    <tr>\n",
       "      <th>1</th>\n",
       "      <td>amzn</td>\n",
       "      <td>Jul-09-21</td>\n",
       "      <td>10:49PM</td>\n",
       "      <td>China Watchdog Rejects Tencent-Led Game Stream...</td>\n",
       "    </tr>\n",
       "    <tr>\n",
       "      <th>2</th>\n",
       "      <td>amzn</td>\n",
       "      <td>Jul-09-21</td>\n",
       "      <td>07:10PM</td>\n",
       "      <td>FTC extends probe of Amazon, MGM deal - source</td>\n",
       "    </tr>\n",
       "    <tr>\n",
       "      <th>3</th>\n",
       "      <td>amzn</td>\n",
       "      <td>Jul-09-21</td>\n",
       "      <td>06:48PM</td>\n",
       "      <td>FTC extends probe of Amazon, MGM deal - source</td>\n",
       "    </tr>\n",
       "    <tr>\n",
       "      <th>4</th>\n",
       "      <td>amzn</td>\n",
       "      <td>Jul-09-21</td>\n",
       "      <td>04:59PM</td>\n",
       "      <td>This week in Bidenomics</td>\n",
       "    </tr>\n",
       "  </tbody>\n",
       "</table>\n",
       "</div>"
      ],
      "text/plain": [
       "  tkicker       date       time  \\\n",
       "0    amzn  Jul-10-21  12:35AM     \n",
       "1    amzn  Jul-09-21  10:49PM     \n",
       "2    amzn  Jul-09-21  07:10PM     \n",
       "3    amzn  Jul-09-21  06:48PM     \n",
       "4    amzn  Jul-09-21  04:59PM     \n",
       "\n",
       "                                               title  \n",
       "0  The Pentagon's JEDI Contract Is Dead -- but It...  \n",
       "1  China Watchdog Rejects Tencent-Led Game Stream...  \n",
       "2     FTC extends probe of Amazon, MGM deal - source  \n",
       "3     FTC extends probe of Amazon, MGM deal - source  \n",
       "4                            This week in Bidenomics  "
      ]
     },
     "execution_count": 8,
     "metadata": {},
     "output_type": "execute_result"
    }
   ],
   "source": [
    "df.head()"
   ]
  },
  {
   "cell_type": "code",
   "execution_count": 9,
   "id": "6cb27aa3",
   "metadata": {},
   "outputs": [],
   "source": [
    "vader = SentimentIntensityAnalyzer()"
   ]
  },
  {
   "cell_type": "code",
   "execution_count": 10,
   "id": "f690016c",
   "metadata": {},
   "outputs": [
    {
     "name": "stdout",
     "output_type": "stream",
     "text": [
      "{'neg': 0.413, 'neu': 0.587, 'pos': 0.0, 'compound': -0.2755}\n"
     ]
    }
   ],
   "source": [
    "print(vader.polarity_scores(\"I dont like apple company\"))"
   ]
  },
  {
   "cell_type": "code",
   "execution_count": 11,
   "id": "7bb5a215",
   "metadata": {},
   "outputs": [],
   "source": [
    "f = lambda title: vader.polarity_scores(title)[\"compound\"]\n",
    "df[\"compound\"]=df[\"title\"].apply(f)"
   ]
  },
  {
   "cell_type": "code",
   "execution_count": 12,
   "id": "b3d1487f",
   "metadata": {},
   "outputs": [
    {
     "data": {
      "text/html": [
       "<div>\n",
       "<style scoped>\n",
       "    .dataframe tbody tr th:only-of-type {\n",
       "        vertical-align: middle;\n",
       "    }\n",
       "\n",
       "    .dataframe tbody tr th {\n",
       "        vertical-align: top;\n",
       "    }\n",
       "\n",
       "    .dataframe thead th {\n",
       "        text-align: right;\n",
       "    }\n",
       "</style>\n",
       "<table border=\"1\" class=\"dataframe\">\n",
       "  <thead>\n",
       "    <tr style=\"text-align: right;\">\n",
       "      <th></th>\n",
       "      <th>tkicker</th>\n",
       "      <th>date</th>\n",
       "      <th>time</th>\n",
       "      <th>title</th>\n",
       "      <th>compound</th>\n",
       "    </tr>\n",
       "  </thead>\n",
       "  <tbody>\n",
       "    <tr>\n",
       "      <th>0</th>\n",
       "      <td>amzn</td>\n",
       "      <td>Jul-10-21</td>\n",
       "      <td>12:35AM</td>\n",
       "      <td>The Pentagon's JEDI Contract Is Dead -- but It...</td>\n",
       "      <td>-0.3919</td>\n",
       "    </tr>\n",
       "    <tr>\n",
       "      <th>1</th>\n",
       "      <td>amzn</td>\n",
       "      <td>Jul-09-21</td>\n",
       "      <td>10:49PM</td>\n",
       "      <td>China Watchdog Rejects Tencent-Led Game Stream...</td>\n",
       "      <td>-0.4939</td>\n",
       "    </tr>\n",
       "    <tr>\n",
       "      <th>2</th>\n",
       "      <td>amzn</td>\n",
       "      <td>Jul-09-21</td>\n",
       "      <td>07:10PM</td>\n",
       "      <td>FTC extends probe of Amazon, MGM deal - source</td>\n",
       "      <td>0.2960</td>\n",
       "    </tr>\n",
       "    <tr>\n",
       "      <th>3</th>\n",
       "      <td>amzn</td>\n",
       "      <td>Jul-09-21</td>\n",
       "      <td>06:48PM</td>\n",
       "      <td>FTC extends probe of Amazon, MGM deal - source</td>\n",
       "      <td>0.2960</td>\n",
       "    </tr>\n",
       "    <tr>\n",
       "      <th>4</th>\n",
       "      <td>amzn</td>\n",
       "      <td>Jul-09-21</td>\n",
       "      <td>04:59PM</td>\n",
       "      <td>This week in Bidenomics</td>\n",
       "      <td>0.0000</td>\n",
       "    </tr>\n",
       "  </tbody>\n",
       "</table>\n",
       "</div>"
      ],
      "text/plain": [
       "  tkicker       date       time  \\\n",
       "0    amzn  Jul-10-21  12:35AM     \n",
       "1    amzn  Jul-09-21  10:49PM     \n",
       "2    amzn  Jul-09-21  07:10PM     \n",
       "3    amzn  Jul-09-21  06:48PM     \n",
       "4    amzn  Jul-09-21  04:59PM     \n",
       "\n",
       "                                               title  compound  \n",
       "0  The Pentagon's JEDI Contract Is Dead -- but It...   -0.3919  \n",
       "1  China Watchdog Rejects Tencent-Led Game Stream...   -0.4939  \n",
       "2     FTC extends probe of Amazon, MGM deal - source    0.2960  \n",
       "3     FTC extends probe of Amazon, MGM deal - source    0.2960  \n",
       "4                            This week in Bidenomics    0.0000  "
      ]
     },
     "execution_count": 12,
     "metadata": {},
     "output_type": "execute_result"
    }
   ],
   "source": [
    "df.head()"
   ]
  },
  {
   "cell_type": "code",
   "execution_count": 13,
   "id": "48c7d100",
   "metadata": {},
   "outputs": [],
   "source": [
    "df[\"date\"] = pd.to_datetime(df.date).dt.date"
   ]
  },
  {
   "cell_type": "code",
   "execution_count": 14,
   "id": "022c4ea0",
   "metadata": {},
   "outputs": [
    {
     "data": {
      "text/plain": [
       "<Figure size 720x576 with 0 Axes>"
      ]
     },
     "metadata": {},
     "output_type": "display_data"
    },
    {
     "data": {
      "image/png": "[encoded data removed]",
      "text/plain": [
       "<Figure size 432x288 with 1 Axes>"
      ]
     },
     "metadata": {
      "needs_background": "light"
     },
     "output_type": "display_data"
    },
    {
     "data": {
      "text/html": [
       "<div>\n",
       "<style scoped>\n",
       "    .dataframe tbody tr th:only-of-type {\n",
       "        vertical-align: middle;\n",
       "    }\n",
       "\n",
       "    .dataframe tbody tr th {\n",
       "        vertical-align: top;\n",
       "    }\n",
       "\n",
       "    .dataframe thead th {\n",
       "        text-align: right;\n",
       "    }\n",
       "</style>\n",
       "<table border=\"1\" class=\"dataframe\">\n",
       "  <thead>\n",
       "    <tr style=\"text-align: right;\">\n",
       "      <th>tkicker</th>\n",
       "      <th>amd</th>\n",
       "      <th>amzn</th>\n",
       "      <th>fb</th>\n",
       "      <th>goog</th>\n",
       "    </tr>\n",
       "    <tr>\n",
       "      <th>date</th>\n",
       "      <th></th>\n",
       "      <th></th>\n",
       "      <th></th>\n",
       "      <th></th>\n",
       "    </tr>\n",
       "  </thead>\n",
       "  <tbody>\n",
       "    <tr>\n",
       "      <th>2021-06-08</th>\n",
       "      <td>0.266820</td>\n",
       "      <td>NaN</td>\n",
       "      <td>NaN</td>\n",
       "      <td>NaN</td>\n",
       "    </tr>\n",
       "    <tr>\n",
       "      <th>2021-06-09</th>\n",
       "      <td>0.000000</td>\n",
       "      <td>NaN</td>\n",
       "      <td>NaN</td>\n",
       "      <td>NaN</td>\n",
       "    </tr>\n",
       "    <tr>\n",
       "      <th>2021-06-10</th>\n",
       "      <td>0.083333</td>\n",
       "      <td>NaN</td>\n",
       "      <td>NaN</td>\n",
       "      <td>NaN</td>\n",
       "    </tr>\n",
       "    <tr>\n",
       "      <th>2021-06-11</th>\n",
       "      <td>0.102700</td>\n",
       "      <td>NaN</td>\n",
       "      <td>NaN</td>\n",
       "      <td>NaN</td>\n",
       "    </tr>\n",
       "    <tr>\n",
       "      <th>2021-06-14</th>\n",
       "      <td>0.422867</td>\n",
       "      <td>NaN</td>\n",
       "      <td>NaN</td>\n",
       "      <td>NaN</td>\n",
       "    </tr>\n",
       "  </tbody>\n",
       "</table>\n",
       "</div>"
      ],
      "text/plain": [
       "tkicker          amd  amzn  fb  goog\n",
       "date                                \n",
       "2021-06-08  0.266820   NaN NaN   NaN\n",
       "2021-06-09  0.000000   NaN NaN   NaN\n",
       "2021-06-10  0.083333   NaN NaN   NaN\n",
       "2021-06-11  0.102700   NaN NaN   NaN\n",
       "2021-06-14  0.422867   NaN NaN   NaN"
      ]
     },
     "execution_count": 14,
     "metadata": {},
     "output_type": "execute_result"
    }
   ],
   "source": [
    "plt.figure(figsize =(10,8))\n",
    "mean_df = df.groupby([\"tkicker\",'date']).mean()\n",
    "mean_df = mean_df.unstack()\n",
    "mean_df = mean_df.xs('compound',axis='columns').transpose()\n",
    "mean_df.plot(kind=\"bar\")\n",
    "plt.show()\n",
    "mean_df.head()"
   ]
  },
  {
   "cell_type": "code",
   "execution_count": null,
   "id": "c2a7ca29",
   "metadata": {},
   "outputs": [],
   "source": []
  }
 ],
 "metadata": {
  "kernelspec": {
   "display_name": "Python 3",
   "language": "python",
   "name": "python3"
  },
  "language_info": {
   "codemirror_mode": {
    "name": "ipython",
    "version": 3
   },
   "file_extension": ".py",
   "mimetype": "text/x-python",
   "name": "python",
   "nbconvert_exporter": "python",
   "pygments_lexer": "ipython3",
   "version": "3.8.8"
  }
 },
 "nbformat": 4,
 "nbformat_minor": 5
}
